{
  "nbformat": 4,
  "nbformat_minor": 0,
  "metadata": {
    "colab": {
      "provenance": [],
      "authorship_tag": "ABX9TyNumMC+q+dh4p7rWienIorx",
      "include_colab_link": true
    },
    "kernelspec": {
      "name": "python3",
      "display_name": "Python 3"
    },
    "language_info": {
      "name": "python"
    }
  },
  "cells": [
    {
      "cell_type": "markdown",
      "metadata": {
        "id": "view-in-github",
        "colab_type": "text"
      },
      "source": [
        "<a href=\"https://colab.research.google.com/github/1-14R51-14/firstRepo/blob/master/Untitled3.ipynb\" target=\"_parent\"><img src=\"https://colab.research.google.com/assets/colab-badge.svg\" alt=\"Open In Colab\"/></a>"
      ]
    },
    {
      "cell_type": "code",
      "execution_count": null,
      "metadata": {
        "colab": {
          "base_uri": "https://localhost:8080/"
        },
        "id": "d1czqneVNnpM",
        "outputId": "374c5ea7-fba4-4312-9dcf-1cc3e71e1fde"
      },
      "outputs": [
        {
          "output_type": "stream",
          "name": "stdout",
          "text": [
            "Collecting pypdf\n",
            "  Downloading pypdf-4.2.0-py3-none-any.whl (290 kB)\n",
            "\u001b[2K     \u001b[90m━━━━━━━━━━━━━━━━━━━━━━━━━━━━━━━━━━━━━━━━\u001b[0m \u001b[32m290.4/290.4 kB\u001b[0m \u001b[31m2.4 MB/s\u001b[0m eta \u001b[36m0:00:00\u001b[0m\n",
            "\u001b[?25hRequirement already satisfied: typing_extensions>=4.0 in /usr/local/lib/python3.10/dist-packages (from pypdf) (4.11.0)\n",
            "Installing collected packages: pypdf\n",
            "Successfully installed pypdf-4.2.0\n"
          ]
        }
      ],
      "source": [
        "!pip install pypdf"
      ]
    },
    {
      "cell_type": "code",
      "source": [
        "from pypdf import PdfReader\n",
        "\n",
        "reader = PdfReader(\"/content/2103-Article Text-6009-2-10-20231224.pdf\")\n",
        "number_of_pages = len(reader.pages)\n",
        "for i in range (0,number_of_pages):\n",
        "    page = reader.pages[i]\n",
        "    text = page.extract_text()\n",
        "    print(number_of_pages)\n",
        "    print(text)"
      ],
      "metadata": {
        "colab": {
          "base_uri": "https://localhost:8080/"
        },
        "id": "LITkp2DJN5NY",
        "outputId": "a603307a-2bfa-4b0a-b07d-1f00c7b01ec6"
      },
      "execution_count": null,
      "outputs": [
        {
          "output_type": "stream",
          "name": "stdout",
          "text": [
            "5\n",
            "ournal of Networking and Telecommunications - 1 -J\n",
            "Python-Based Little Dinosaur Game Design\n",
            "Laihao Huang\n",
            "Zhejiang Gongshang University, Hangzhou 310000, China.\n",
            "Abstract: Python is a cross-platform and interpreted high-level programming language which is open source and free. It has a\n",
            "rich and powerful library that can easily connect various modules made in other languages, so Python is often called the\n",
            "\"glue\" language.[1]The Python language has developed rapidly in recent years and has a wide range of applications. A large\n",
            "number of Python applications can be found in such fields as Web programming, graphics processing, hacker programming,\n",
            "big data processing, web crawlers, scientific computing, and game programming and so on. The invention and research of the\n",
            "Python language are mainly for facilitating learning and application. Therefore, the Python language is open source, with\n",
            "characteristics of simple syntax and developer-friendly writing and understanding. This article aims to master the advantages\n",
            "of Python language in the field of game development through the design and analysis of the little dinosaur game.\n",
            "Keywords: Python; Little Dinosaur; Game Design\n",
            "1. Overall planning design of game development\n",
            "As we all know, Google Chrome will provide a dinosaur game when there is no network connection to help ease our\n",
            "anxiety. At this time, just press the space bar, the little dinosaur will move and begin to run wild in the desert, and then there\n",
            "will be a steady stream of obstacles such as cacti, birds and so on. Players need to control the little dinosaur to jump into the\n",
            "air to avoid these obstacles. Enter chrome://dino/ in the address bar of the browser, and you can play this game even when\n",
            "connected to the Internet.[2]\n",
            "With the rapid development of the Internet industry, various powerful programming languages and real-time electronic\n",
            "game development modules have also been born, such as the Pygame module in Python, which provides a technical basis for\n",
            "the development of game programs. For this reason, this article proposes the development of a little dinosaur game based on\n",
            "Python language. According to the running process of the game and the embedding of game elements, the development is\n",
            "divided into 4 classes: dinosaurs, obstacles, layouts, and integrals. Finally, it will encapsulate each class together.\n",
            "2. Detailed design of game program\n",
            "5\n",
            "Volume  3 Issue  1 - 2 -Figure 1\n",
            "2.1 Background building\n",
            "In Python game development, the Pygame module is mainly used. After importing the library using import, it will start\n",
            "laying the background. The entire scene of the game needs a window as a carrier to display the picture in the game. For the\n",
            "simplicity of the page, the background size can be set to 1000*500. At the same time, in order to unify the character and\n",
            "background style of the entire game, a background picture is prepared. During development, you can directly call the method\n",
            "in the module to import it.\n",
            "2.2 Little dinosaurs and their movement patterns\n",
            "When the little dinosaur jumps, you first need to set the default fixed position of the little dinosaur on the map, and then\n",
            "judge whether the space bar in the keyboard is pressed. Same as the background picture, you need to import three pictures\n",
            "corresponding to running and jumping, and switch the pictures through the state transition to complete the corresponding\n",
            "action. In order to adjust the difficulty and track the status of the little dinosaur, you need to create a little dinosaur and set\n",
            "three parameters at the same time, position, velocity, and acceleration. You need to record the position, speed and acceleration\n",
            "of the little dinosaur respectively. At the same time, in order to return to the initial state when restarting, the initial values of\n",
            "velocity and acceleration must be set to 0. Finally, call the function in the main function to draw the little dinosaur.\n",
            "\n",
            "5\n",
            "ournal of Networking and Telecommunications - 3 -JThen realize the movement of the little dinosaur. According to its game function, we divide the movement mode of the\n",
            "little dinosaur into the most basic two categories, namely, running and jumping. In order to avoid obstacles, jumping is the\n",
            "key step.\n",
            "The specific implementation method is as follows:[3]First, the implementation of running is to set the position of the\n",
            "little dinosaur unchanged, and scroll the background to achieve visual advancement. Next, in order to realize the jump, two\n",
            "parameters need to be set: jump-velocity and gravity, which are the displacement and gravity when jumping, to ensure that\n",
            "gravity will be added to the little dinosaur to return to the initial position after the little dinosaur jumps up. Set up a function\n",
            "jump to encapsulate related operations, and realize the up and down displacement of the little dinosaur through the addition\n",
            "and subtraction of parameters and the acceleration of gravity. Then by detecting the pressing of the space bar, call the jump\n",
            "function to complete the jump.\n",
            "2.3 Obstacles and their movement patterns\n",
            "Before realizing the appearance of obstacles, it is necessary to consider the size, moving speed and interval of the\n",
            "obstacles. If the obstacles that appear each time are the same, then the game will lose the fun. Therefore, it is necessary to\n",
            "load multiple obstacle pictures of different sizes, and then randomly select and display them. In addition, you need to\n",
            "calculate how often an obstacle appears and display it in the main window.\n",
            "The specific implementation method is as follows:[4]first import random numbers, create an obstacle class named\n",
            "Obstacle, define a parameter in the class, and then load the obstacle picture in the initialization method. Create a random\n",
            "number from 0 to n, and select obstacles based on this number, and finally create the size of the obstacle rectangle based on\n",
            "the width and height of the picture, and set the drawing coordinates of the obstacle. Then in the Obstacle class, first create the\n",
            "Moving method to realize the movement of the obstacle, and then create the Obstacle method to realize the drawing of the\n",
            "obstacle. Define the time to add obstacles and the list of obstacle objects in the main method, place them in the code of\n",
            "drawing dinosaurs, and set the interval of the time between obstacles. If the interval is too fast or too slow, it will affect the\n",
            "normal progress of the game.\n",
            "2.4 Collision and integration functions\n",
            "When realizing collision and integration, you first need to judge whether the two rectangular pictures of the little\n",
            "dinosaur and the obstacle collide. If there is a collision, the function is called to end the game, otherwise, the little dinosaur\n",
            "has crossed the obstacle and added points. And the score is displayed in the form.\n",
            "The specific implementation method is as follows: In the Obstacle class, create the showScore method below the\n",
            "Obstacle method to display the score in the top middle of the form. Complete the game ending method above the main\n",
            "method, and finally load the game ending picture and display the picture in the middle of the window, and display the score at\n",
            "the same time. In the main method, under the code for drawing the obstacle, it is necessary to judge whether the little\n",
            "dinosaur collides with the obstacle. If there is a collision, the game end function is called, otherwise, the score is increased\n",
            "and the current score is displayed.\n",
            "3. Important game details and function optimization:\n",
            "3.1 The overall operation of the game\n",
            "There are several problems in game running: how to judge when the game is in progress or over, and how to restart the\n",
            "game.\n",
            "Solve the first problem first. You need to set a variable running to distinguish the state of the game, and set a function to\n",
            "end the game, and the running and continuation of the game only need to determine the value of running. Initially set the\n",
            "value to 1, and then all parts that should stop the game will call the game end function to set running to 0 for unified\n",
            "management.\n",
            "Then solve the second problem. The game ends when the little dinosaur hits an obstacle. At this point, you need to ask\n",
            "5\n",
            "Volume  3 Issue  1 - 4 -the player whether to restart and adjust the data accordingly.\n",
            "The specific implementation method is as follows: first display the prompt sentence in the center of the screen, judge\n",
            "that the player enters N and Y from the keyboard, and automatically close the window when the input is N and exit the game.\n",
            "When the input is Y, you need to clear the obstacles on the screen and redraw Little dinosaur and reset other key parameters\n",
            "in the game.\n",
            "3.2 Detailed optimization on the small dinosaur movement mode\n",
            "Recalling the previous implementation of the small dinosaur movement mode, the small dinosaur jumps by adding and\n",
            "subtracting parameters, but in actual play, the player often presses the space bar many times, and the small dinosaur will\n",
            "continue to jump in the air at this time, which is obviously not consistent with common sense. Therefore, it is necessary to\n",
            "add a parameter jumping before the original jump function, which is initialized to 0 at first, and is updated to 1 when the\n",
            "jump function is called, and the judgment is performed until the little dinosaur returns to the initial position and it is updated\n",
            "back to 0. During the game, as long as the value of jumping is 1, it means that you are in the air and cannot jump again.\n",
            "3.3 Memory optimization for game running\n",
            "In the implementation of the previous obstacle module, this function was realized by randomly calling obstacles and\n",
            "setting their moving speed and appearance interval. But at the same time, a problem arises. When calling obstacles, each\n",
            "obstacle is an independent individual. When the little dinosaur jumps over the obstacle, the obstacle does not disappear but\n",
            "just moves outside the main window, and the player cannot see it. That's it. As the number of obstacles in the later game\n",
            "increases, new obstacles are constantly called, and the memory consumed by the game will continue to increase.\n",
            "To solve this problem, you can set a function remove-out-bound-ememies to loop through each obstacle. When the\n",
            "coordinate of the obstacle is detected as a negative number, that is, after it has exceeded the screen, it will be destroyed and\n",
            "the memory will be recycled.\n",
            "3.4 In-game difficulty enhancement function\n",
            "In actual games, a single game content will make players feel boring and lose interest. For this reason, the difficulty of\n",
            "the game needs to be adjusted to increase the playability.\n",
            "The specific implementation method is as follows: Set the function increase-enemy-velocity, and increase the obstacle\n",
            "moving speed after a period of time, in which attention should be paid to the adjustment of the obstacle appearance interval\n",
            "set before, and both too fast speed and too short interval will cause the game to appear A situation that must fail.\n",
            "Conclusion\n",
            "With the development of artificial intelligence in recent years, the application of the Python language has become more\n",
            "and more common. Using the Pygame module in the Python language to design a little dinosaur game, you can find that the\n",
            "Python language is also very easy to develop games, and it can complete the same function with less code than other\n",
            "languages. [1]Python has a powerful standard library.[5]The core of the Python language only contains common types and\n",
            "functions such as numbers, strings, lists, dictionaries, and files, while the Python standard library provides additional power\n",
            "such as system management, network communication, text processing, database interfaces, graphics systems, and XML\n",
            "processing features. The Python standard library has a clear naming interface and well-documented, so it is easy to learn and\n",
            "use.\n",
            "5\n",
            "Journal  of Networking  andTelecommunications - 5 -References\n",
            "[1] Yuxian dong. little dinosaur game design and analysis based on python [j]. modern information technology, june 25,2019,\n",
            "volume 3, issue 12:81-85.\n",
            "[2] zuoru xie, lin miaoyan.change ideas to challenge the “little dinosaur” game [j].china information technology education,\n",
            "volume 13, june 2020, issue 14:120.\n",
            "[3] changlong liu.python efficient development in practical practice [m]. beijing: electronic industry publishing house, 2019.\n",
            "[4] dark horse programmer. introduction to python fast programming [m]. beijing: people’s post and telecommunications\n",
            "press, 2018.\n",
            "[5] baidu encyclopedia.python ［db/ol］.https://baike.baidu.com/item/python ，2021-4.\n"
          ]
        }
      ]
    }
  ]
}